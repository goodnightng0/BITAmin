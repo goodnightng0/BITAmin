{
 "cells": [
  {
   "cell_type": "markdown",
   "metadata": {},
   "source": [
    "# 1. PCA 실습"
   ]
  },
  {
   "cell_type": "markdown",
   "metadata": {},
   "source": [
    "### 1)  wine data를 불러오고 스케일링을 하세요."
   ]
  },
  {
   "cell_type": "code",
   "execution_count": 2,
   "metadata": {},
   "outputs": [],
   "source": [
    "from sklearn.datasets import load_wine\n",
    "import pandas as pd\n",
    "import matplotlib.pyplot as plt\n",
    "%matplotlib inline\n",
    "from sklearn.preprocessing import StandardScaler\n",
    "from sklearn.decomposition import PCA\n",
    "from sklearn.ensemble import RandomForestClassifier\n",
    "from sklearn.model_selection import cross_val_score\n",
    "import numpy as np"
   ]
  },
  {
   "cell_type": "code",
   "execution_count": 3,
   "metadata": {},
   "outputs": [],
   "source": [
    "wine=load_wine()"
   ]
  },
  {
   "cell_type": "code",
   "execution_count": 4,
   "metadata": {},
   "outputs": [],
   "source": [
    "wine_scaled=StandardScaler().fit_transform(wine.data)"
   ]
  },
  {
   "cell_type": "markdown",
   "metadata": {},
   "source": [
    "### 2) 스케일링된 데이터에 주성분 수 7로 설정해서 PCA 데이터로 변환하고 개별 주성분이 차지하는 변동성 비율을 출력하세요"
   ]
  },
  {
   "cell_type": "code",
   "execution_count": 203,
   "metadata": {},
   "outputs": [
    {
     "name": "stdout",
     "output_type": "stream",
     "text": [
      "[0.36198848 0.1920749  0.11123631 0.0706903  0.06563294 0.04935823\n",
      " 0.04238679]\n"
     ]
    }
   ],
   "source": [
    "pca=PCA(n_components=7)\n",
    "pca.fit(wine_scaled)\n",
    "wine_pca=pca.transform(wine_scaled)\n",
    "print(pca.explained_variance_ratio_)"
   ]
  },
  {
   "cell_type": "markdown",
   "metadata": {},
   "source": [
    "### 3) 원본 와인 데이터세트와 PCA로 변환된 데이터 세트에 각각 분류를 적용한 후 결과를 출력하세요.\n",
    "####    - 분류기는 RandomFoestClassifier를 사용하세요\n",
    "####    - 교차 검증 폴드수 : 3\n",
    "####    - 출력 결과는\n",
    "       원본 데이터 평균 정확도 : [0.xxx,0.xxx,0.xxx]\n",
    "       PCA 변환 데이터 평균 정확도 : [0.xxx,0.xxx,0.xxx]"
   ]
  },
  {
   "cell_type": "code",
   "execution_count": 204,
   "metadata": {},
   "outputs": [
    {
     "name": "stdout",
     "output_type": "stream",
     "text": [
      "원본 데이터 평균 정확도 :  0.9493408662900188\n",
      "PCA 변환 데이터 평균 정확도 :  0.9550847457627119\n"
     ]
    }
   ],
   "source": [
    "rcf = RandomForestClassifier() \n",
    "scores = cross_val_score(rcf, wine.data, wine.target,scoring='accuracy',cv=3) \n",
    "print('원본 데이터 평균 정확도 : ', np.mean(scores))\n",
    "\n",
    "pca_columns=['pca_component_1','pca_component_2','pca_component_3', 'pca_component_4', 'pca_component_5', 'pca_component_6', 'pca_component_7']\n",
    "wineDF_pca = pd.DataFrame(wine_pca, columns=pca_columns) \n",
    "wineDF_pca['target']=wine.target\n",
    "pca_X=wineDF_pca[['pca_component_1','pca_component_2','pca_component_3', 'pca_component_4', 'pca_component_5', 'pca_component_6', 'pca_component_7']]\n",
    "scores_pca=cross_val_score(rcf,pca_X,wine.target,scoring='accuracy',cv=3)\n",
    "print('PCA 변환 데이터 평균 정확도 : ', np.mean(scores_pca))"
   ]
  },
  {
   "cell_type": "markdown",
   "metadata": {},
   "source": [
    "# 2. LDA 실습"
   ]
  },
  {
   "cell_type": "markdown",
   "metadata": {},
   "source": [
    "### 1)     1번에서 스케일링한 와인 데이터를 컴포넌트 수를 2로 하여 lda변환 후 shape을 출력하세요.\n",
    "    \n",
    "    출력 결과 : (178,2)"
   ]
  },
  {
   "cell_type": "code",
   "execution_count": 7,
   "metadata": {},
   "outputs": [
    {
     "name": "stdout",
     "output_type": "stream",
     "text": [
      "(178, 2)\n"
     ]
    }
   ],
   "source": [
    "from sklearn.discriminant_analysis import LinearDiscriminantAnalysis\n",
    "\n",
    "lda = LinearDiscriminantAnalysis(n_components=2)\n",
    "lda.fit(wine_scaled, wine.target) \n",
    "wine_lda=lda.transform(wine_scaled)\n",
    "\n",
    "print(wine_lda.shape)"
   ]
  },
  {
   "cell_type": "markdown",
   "metadata": {},
   "source": [
    "### 2) lda변환된 데이터 값을 2차원 평면에 class별로 표현하세요.\n",
    "    \n",
    "    colors와 markers는 밑에 제시했습니다."
   ]
  },
  {
   "cell_type": "code",
   "execution_count": 8,
   "metadata": {},
   "outputs": [
    {
     "data": {
      "image/png": "[encoded data removed]",
      "text/plain": [
       "<Figure size 432x288 with 1 Axes>"
      ]
     },
     "metadata": {
      "needs_background": "light"
     },
     "output_type": "display_data"
    }
   ],
   "source": [
    "Ida_columns = ['lda_component_1', 'lda_component_2'] \n",
    "wineDF_lda = pd. DataFrame(wine_lda, columns=Ida_columns) \n",
    "wineDF_lda['target'] = wine.target \n",
    "\n",
    "markers = ['s', 'x', 'o'] \n",
    "colors=['r','b','g']\n",
    "for i, (marker, color) in enumerate(zip(markers, colors)): \n",
    "    x_axis_data = wineDF_lda[wineDF_lda['target']==i]['lda_component_1'] \n",
    "    y_axis_data = wineDF_lda[wineDF_lda['target']==i]['lda_component_2'] \n",
    "    plt.scatter(x_axis_data, y_axis_data, marker=marker, label=wine.target_names[i], color=color) \n",
    "\n",
    "plt.legend(loc='upper right'); plt.xlabel('lda_component_1'); plt.ylabel('Ida_component_2') \n",
    "plt.show() "
   ]
  },
  {
   "cell_type": "markdown",
   "metadata": {},
   "source": [
    "# 3. SVD 실습 (추천 시스템)"
   ]
  },
  {
   "cell_type": "markdown",
   "metadata": {},
   "source": [
    "## SVD는 추천시스템 중 '협업 필터링 Collaborative Filtering'기법에서 자주 사용되는 방식입니다. <br /> 다음의 과정에 따라서 데이터 전처리 및 SVD를 수행하고 추천결과를 확인해보세요 \n",
    "     \n",
    "**다음의 자료에서 많은 도움을 얻었습니다**     \n",
    "https://lsjsj92.tistory.com/569?category=853217\n",
    "     \n",
    "3.1. 원자료를 불러온다     \n",
    "\n",
    "    1) movies.csv를 데이터프레임으로 불러와서 raw_movies_df라고 저장한다     \n",
    "    2) ratings.csv를 데이터프레임으로 불러와서 raw_ratings_df라고 저장한다  \n",
    "    3) raw_ratings_df를 이용하여 피벗된 객체 user_movie_rating_df를 생성한다.     \n",
    "    index는 userId, column은 movieId, value는 rating으로 한다\n",
    "    4) user_movie_rating_df의 결측값들을 모두 0으로 변환한다"
   ]
  },
  {
   "cell_type": "code",
   "execution_count": 24,
   "metadata": {},
   "outputs": [
    {
     "data": {
      "text/html": [
       "<div>\n",
       "<style scoped>\n",
       "    .dataframe tbody tr th:only-of-type {\n",
       "        vertical-align: middle;\n",
       "    }\n",
       "\n",
       "    .dataframe tbody tr th {\n",
       "        vertical-align: top;\n",
       "    }\n",
       "\n",
       "    .dataframe thead th {\n",
       "        text-align: right;\n",
       "    }\n",
       "</style>\n",
       "<table border=\"1\" class=\"dataframe\">\n",
       "  <thead>\n",
       "    <tr style=\"text-align: right;\">\n",
       "      <th>movieId</th>\n",
       "      <th>1</th>\n",
       "      <th>2</th>\n",
       "      <th>3</th>\n",
       "      <th>4</th>\n",
       "      <th>5</th>\n",
       "      <th>6</th>\n",
       "      <th>7</th>\n",
       "      <th>8</th>\n",
       "      <th>9</th>\n",
       "      <th>10</th>\n",
       "      <th>...</th>\n",
       "      <th>161084</th>\n",
       "      <th>161155</th>\n",
       "      <th>161594</th>\n",
       "      <th>161830</th>\n",
       "      <th>161918</th>\n",
       "      <th>161944</th>\n",
       "      <th>162376</th>\n",
       "      <th>162542</th>\n",
       "      <th>162672</th>\n",
       "      <th>163949</th>\n",
       "    </tr>\n",
       "    <tr>\n",
       "      <th>userId</th>\n",
       "      <th></th>\n",
       "      <th></th>\n",
       "      <th></th>\n",
       "      <th></th>\n",
       "      <th></th>\n",
       "      <th></th>\n",
       "      <th></th>\n",
       "      <th></th>\n",
       "      <th></th>\n",
       "      <th></th>\n",
       "      <th></th>\n",
       "      <th></th>\n",
       "      <th></th>\n",
       "      <th></th>\n",
       "      <th></th>\n",
       "      <th></th>\n",
       "      <th></th>\n",
       "      <th></th>\n",
       "      <th></th>\n",
       "      <th></th>\n",
       "      <th></th>\n",
       "    </tr>\n",
       "  </thead>\n",
       "  <tbody>\n",
       "    <tr>\n",
       "      <th>1</th>\n",
       "      <td>0.0</td>\n",
       "      <td>0.0</td>\n",
       "      <td>0.0</td>\n",
       "      <td>0.0</td>\n",
       "      <td>0.0</td>\n",
       "      <td>0.0</td>\n",
       "      <td>0.0</td>\n",
       "      <td>0.0</td>\n",
       "      <td>0.0</td>\n",
       "      <td>0.0</td>\n",
       "      <td>...</td>\n",
       "      <td>0.0</td>\n",
       "      <td>0.0</td>\n",
       "      <td>0.0</td>\n",
       "      <td>0.0</td>\n",
       "      <td>0.0</td>\n",
       "      <td>0.0</td>\n",
       "      <td>0.0</td>\n",
       "      <td>0.0</td>\n",
       "      <td>0.0</td>\n",
       "      <td>0.0</td>\n",
       "    </tr>\n",
       "    <tr>\n",
       "      <th>2</th>\n",
       "      <td>0.0</td>\n",
       "      <td>0.0</td>\n",
       "      <td>0.0</td>\n",
       "      <td>0.0</td>\n",
       "      <td>0.0</td>\n",
       "      <td>0.0</td>\n",
       "      <td>0.0</td>\n",
       "      <td>0.0</td>\n",
       "      <td>0.0</td>\n",
       "      <td>4.0</td>\n",
       "      <td>...</td>\n",
       "      <td>0.0</td>\n",
       "      <td>0.0</td>\n",
       "      <td>0.0</td>\n",
       "      <td>0.0</td>\n",
       "      <td>0.0</td>\n",
       "      <td>0.0</td>\n",
       "      <td>0.0</td>\n",
       "      <td>0.0</td>\n",
       "      <td>0.0</td>\n",
       "      <td>0.0</td>\n",
       "    </tr>\n",
       "    <tr>\n",
       "      <th>3</th>\n",
       "      <td>0.0</td>\n",
       "      <td>0.0</td>\n",
       "      <td>0.0</td>\n",
       "      <td>0.0</td>\n",
       "      <td>0.0</td>\n",
       "      <td>0.0</td>\n",
       "      <td>0.0</td>\n",
       "      <td>0.0</td>\n",
       "      <td>0.0</td>\n",
       "      <td>0.0</td>\n",
       "      <td>...</td>\n",
       "      <td>0.0</td>\n",
       "      <td>0.0</td>\n",
       "      <td>0.0</td>\n",
       "      <td>0.0</td>\n",
       "      <td>0.0</td>\n",
       "      <td>0.0</td>\n",
       "      <td>0.0</td>\n",
       "      <td>0.0</td>\n",
       "      <td>0.0</td>\n",
       "      <td>0.0</td>\n",
       "    </tr>\n",
       "    <tr>\n",
       "      <th>4</th>\n",
       "      <td>0.0</td>\n",
       "      <td>0.0</td>\n",
       "      <td>0.0</td>\n",
       "      <td>0.0</td>\n",
       "      <td>0.0</td>\n",
       "      <td>0.0</td>\n",
       "      <td>0.0</td>\n",
       "      <td>0.0</td>\n",
       "      <td>0.0</td>\n",
       "      <td>4.0</td>\n",
       "      <td>...</td>\n",
       "      <td>0.0</td>\n",
       "      <td>0.0</td>\n",
       "      <td>0.0</td>\n",
       "      <td>0.0</td>\n",
       "      <td>0.0</td>\n",
       "      <td>0.0</td>\n",
       "      <td>0.0</td>\n",
       "      <td>0.0</td>\n",
       "      <td>0.0</td>\n",
       "      <td>0.0</td>\n",
       "    </tr>\n",
       "    <tr>\n",
       "      <th>5</th>\n",
       "      <td>0.0</td>\n",
       "      <td>0.0</td>\n",
       "      <td>4.0</td>\n",
       "      <td>0.0</td>\n",
       "      <td>0.0</td>\n",
       "      <td>0.0</td>\n",
       "      <td>0.0</td>\n",
       "      <td>0.0</td>\n",
       "      <td>0.0</td>\n",
       "      <td>0.0</td>\n",
       "      <td>...</td>\n",
       "      <td>0.0</td>\n",
       "      <td>0.0</td>\n",
       "      <td>0.0</td>\n",
       "      <td>0.0</td>\n",
       "      <td>0.0</td>\n",
       "      <td>0.0</td>\n",
       "      <td>0.0</td>\n",
       "      <td>0.0</td>\n",
       "      <td>0.0</td>\n",
       "      <td>0.0</td>\n",
       "    </tr>\n",
       "  </tbody>\n",
       "</table>\n",
       "<p>5 rows × 9066 columns</p>\n",
       "</div>"
      ],
      "text/plain": [
       "movieId  1       2       3       4       5       6       7       8       \\\n",
       "userId                                                                    \n",
       "1           0.0     0.0     0.0     0.0     0.0     0.0     0.0     0.0   \n",
       "2           0.0     0.0     0.0     0.0     0.0     0.0     0.0     0.0   \n",
       "3           0.0     0.0     0.0     0.0     0.0     0.0     0.0     0.0   \n",
       "4           0.0     0.0     0.0     0.0     0.0     0.0     0.0     0.0   \n",
       "5           0.0     0.0     4.0     0.0     0.0     0.0     0.0     0.0   \n",
       "\n",
       "movieId  9       10      ...  161084  161155  161594  161830  161918  161944  \\\n",
       "userId                   ...                                                   \n",
       "1           0.0     0.0  ...     0.0     0.0     0.0     0.0     0.0     0.0   \n",
       "2           0.0     4.0  ...     0.0     0.0     0.0     0.0     0.0     0.0   \n",
       "3           0.0     0.0  ...     0.0     0.0     0.0     0.0     0.0     0.0   \n",
       "4           0.0     4.0  ...     0.0     0.0     0.0     0.0     0.0     0.0   \n",
       "5           0.0     0.0  ...     0.0     0.0     0.0     0.0     0.0     0.0   \n",
       "\n",
       "movieId  162376  162542  162672  163949  \n",
       "userId                                   \n",
       "1           0.0     0.0     0.0     0.0  \n",
       "2           0.0     0.0     0.0     0.0  \n",
       "3           0.0     0.0     0.0     0.0  \n",
       "4           0.0     0.0     0.0     0.0  \n",
       "5           0.0     0.0     0.0     0.0  \n",
       "\n",
       "[5 rows x 9066 columns]"
      ]
     },
     "execution_count": 24,
     "metadata": {},
     "output_type": "execute_result"
    }
   ],
   "source": [
    "raw_movies_df=pd.read_csv(\"./movies.csv\")\n",
    "raw_ratings_df=pd.read_csv(\"./ratings.csv\")\n",
    "raw_ratings_df.head()\n",
    "\n",
    "user_movie_rating_df=raw_ratings_df.pivot_table('rating',index='userId',columns='movieId').fillna(0)\n",
    "user_movie_rating_df.head()"
   ]
  },
  {
   "cell_type": "markdown",
   "metadata": {},
   "source": [
    "3.2. 데이터프레임안의 값들을 X로 추출하여서 표준화를 실시한다\n",
    "- 표준화는 각 데이터를 데이터가 속한 행의 평균값에서 빼는 방식으로 진행한다 (sklearn의 StandardScaler를 사용하는 것이 아님)\n",
    "- 표준화된 X를 **X_scaled**라고 저장한다"
   ]
  },
  {
   "cell_type": "code",
   "execution_count": 179,
   "metadata": {},
   "outputs": [],
   "source": [
    "X=user_movie_rating_df.values\n",
    "X -= np.mean(X, axis=0)\n",
    "X=pd.DataFrame(data=X)\n",
    "X_scaled=X.values.T"
   ]
  },
  {
   "cell_type": "markdown",
   "metadata": {},
   "source": [
    "3.3. X_scaled를 바탕으로 TruncatedSVD를 시행하여 사용자 평점 예측 객체를 생성한다.\n",
    "- sklearn 모듈을 사용하지 않고 from scipy.sparse.linalg import svds를 사용합니다\n",
    "- 사용방법은 인자로 Truncated SVD를 수행하고자 하는 행렬을 첫번째로,\n",
    "- 두번째 인자에는 최종 압축되어 산출되는 열의 개수 k를 입력합니다.    \n",
    "<br />\n",
    "ex) U, sigma, Vt = svds(?, k = 12)<br />\n",
    "-> k = 12로 설정    \n",
    "- 생성된 Truncated SVD객체를 **svd_preds_df**라고 저장한다    \n",
    "-> columns는 user_movie_rating_df.columns로 설정\n",
    "\n"
   ]
  },
  {
   "cell_type": "code",
   "execution_count": 180,
   "metadata": {},
   "outputs": [
    {
     "name": "stdout",
     "output_type": "stream",
     "text": [
      "(9066, 671)\n"
     ]
    }
   ],
   "source": [
    "from scipy.sparse.linalg import svds\n",
    "\n",
    "U, Sigma, Vt=svds(X_scaled,k=12)\n",
    "svd_preds_df=np.dot(np.dot(U, np.diag(Sigma)),Vt)\n",
    "print(svd_preds_df.shape)"
   ]
  },
  {
   "cell_type": "markdown",
   "metadata": {},
   "source": [
    "3.4. 아래에서 제시되는 사용자 정의함수를 이용하여 **user_id = 330**인 고객에게 5개의 영화를 추천해보는 알고리즘을 수행해보세요!\n",
    "\n",
    "- 인자의 등장순서는 \n",
    "\n",
    "    1) Truncated SVD를 통해 구해진 svd_preds_df    \n",
    "    2) 예측하고자 하는 user_id, 번호    \n",
    "    3) 원래 가지고 있는 영화들의 목록을 담은 raw_movies_df    \n",
    "    4) 원래 가지고 있는 유저별 영화의 평점 데이터 raw_ratings_df    \n",
    "    5) 해당 유저에게 추천해주고자 하는 영화의 개수   "
   ]
  },
  {
   "cell_type": "code",
   "execution_count": 190,
   "metadata": {},
   "outputs": [],
   "source": [
    "corr=np.corrcoef(svd_preds_df)\n",
    "corr.shape\n",
    "\n",
    "temp=raw_movies_df[\"title\"]\n",
    "movie_titles=list(temp)"
   ]
  },
  {
   "cell_type": "code",
   "execution_count": 158,
   "metadata": {
    "scrolled": false
   },
   "outputs": [
    {
     "data": {
      "text/html": [
       "<div>\n",
       "<style scoped>\n",
       "    .dataframe tbody tr th:only-of-type {\n",
       "        vertical-align: middle;\n",
       "    }\n",
       "\n",
       "    .dataframe tbody tr th {\n",
       "        vertical-align: top;\n",
       "    }\n",
       "\n",
       "    .dataframe thead th {\n",
       "        text-align: right;\n",
       "    }\n",
       "</style>\n",
       "<table border=\"1\" class=\"dataframe\">\n",
       "  <thead>\n",
       "    <tr style=\"text-align: right;\">\n",
       "      <th></th>\n",
       "      <th>userId</th>\n",
       "      <th>movieId</th>\n",
       "      <th>rating</th>\n",
       "      <th>timestamp</th>\n",
       "      <th>title</th>\n",
       "      <th>genres</th>\n",
       "    </tr>\n",
       "  </thead>\n",
       "  <tbody>\n",
       "    <tr>\n",
       "      <th>47</th>\n",
       "      <td>330</td>\n",
       "      <td>1094</td>\n",
       "      <td>5.0</td>\n",
       "      <td>948577200</td>\n",
       "      <td>Crying Game, The (1992)</td>\n",
       "      <td>Drama|Romance|Thriller</td>\n",
       "    </tr>\n",
       "    <tr>\n",
       "      <th>14</th>\n",
       "      <td>330</td>\n",
       "      <td>213</td>\n",
       "      <td>5.0</td>\n",
       "      <td>948577039</td>\n",
       "      <td>Burnt by the Sun (Utomlyonnye solntsem) (1994)</td>\n",
       "      <td>Drama</td>\n",
       "    </tr>\n",
       "    <tr>\n",
       "      <th>34</th>\n",
       "      <td>330</td>\n",
       "      <td>527</td>\n",
       "      <td>5.0</td>\n",
       "      <td>948577164</td>\n",
       "      <td>Schindler's List (1993)</td>\n",
       "      <td>Drama|War</td>\n",
       "    </tr>\n",
       "    <tr>\n",
       "      <th>45</th>\n",
       "      <td>330</td>\n",
       "      <td>1035</td>\n",
       "      <td>5.0</td>\n",
       "      <td>948574126</td>\n",
       "      <td>Sound of Music, The (1965)</td>\n",
       "      <td>Musical|Romance</td>\n",
       "    </tr>\n",
       "    <tr>\n",
       "      <th>48</th>\n",
       "      <td>330</td>\n",
       "      <td>1172</td>\n",
       "      <td>5.0</td>\n",
       "      <td>948575236</td>\n",
       "      <td>Cinema Paradiso (Nuovo cinema Paradiso) (1989)</td>\n",
       "      <td>Drama</td>\n",
       "    </tr>\n",
       "  </tbody>\n",
       "</table>\n",
       "</div>"
      ],
      "text/plain": [
       "    userId  movieId  rating  timestamp  \\\n",
       "47     330     1094     5.0  948577200   \n",
       "14     330      213     5.0  948577039   \n",
       "34     330      527     5.0  948577164   \n",
       "45     330     1035     5.0  948574126   \n",
       "48     330     1172     5.0  948575236   \n",
       "\n",
       "                                             title                  genres  \n",
       "47                         Crying Game, The (1992)  Drama|Romance|Thriller  \n",
       "14  Burnt by the Sun (Utomlyonnye solntsem) (1994)                   Drama  \n",
       "34                         Schindler's List (1993)               Drama|War  \n",
       "45                      Sound of Music, The (1965)         Musical|Romance  \n",
       "48  Cinema Paradiso (Nuovo cinema Paradiso) (1989)                   Drama  "
      ]
     },
     "execution_count": 158,
     "metadata": {},
     "output_type": "execute_result"
    }
   ],
   "source": [
    "#생성된 유저의 이전 평점 기록\n",
    "temp=raw_ratings_df.loc[raw_ratings_df['userId'] == 330]\n",
    "user_history=pd.merge(temp, raw_movies_df, left_on='movieId', right_on='movieId', how='inner')\n",
    "user_history = user_history.sort_values('rating',ascending=False)\n",
    "user_history.head(5)"
   ]
  },
  {
   "cell_type": "code",
   "execution_count": 206,
   "metadata": {},
   "outputs": [],
   "source": [
    "indx=movie_titles.index(\"Crying Game, The (1992)\")\n",
    "corr_first=corr[indx]\n",
    "movie_titles[(corr_first>=0.9)]\n",
    "#오류 length not matching"
   ]
  },
  {
   "cell_type": "code",
   "execution_count": 27,
   "metadata": {
    "scrolled": true
   },
   "outputs": [
    {
     "data": {
      "text/html": [
       "<div>\n",
       "<style scoped>\n",
       "    .dataframe tbody tr th:only-of-type {\n",
       "        vertical-align: middle;\n",
       "    }\n",
       "\n",
       "    .dataframe tbody tr th {\n",
       "        vertical-align: top;\n",
       "    }\n",
       "\n",
       "    .dataframe thead th {\n",
       "        text-align: right;\n",
       "    }\n",
       "</style>\n",
       "<table border=\"1\" class=\"dataframe\">\n",
       "  <thead>\n",
       "    <tr style=\"text-align: right;\">\n",
       "      <th></th>\n",
       "      <th>movieId</th>\n",
       "      <th>title</th>\n",
       "      <th>genres</th>\n",
       "      <th>Predictions</th>\n",
       "    </tr>\n",
       "  </thead>\n",
       "  <tbody>\n",
       "    <tr>\n",
       "      <th>246</th>\n",
       "      <td>296</td>\n",
       "      <td>Pulp Fiction (1994)</td>\n",
       "      <td>Comedy|Crime|Drama|Thriller</td>\n",
       "      <td>2.023774</td>\n",
       "    </tr>\n",
       "    <tr>\n",
       "      <th>294</th>\n",
       "      <td>356</td>\n",
       "      <td>Forrest Gump (1994)</td>\n",
       "      <td>Comedy|Drama|Romance|War</td>\n",
       "      <td>1.736524</td>\n",
       "    </tr>\n",
       "    <tr>\n",
       "      <th>497</th>\n",
       "      <td>608</td>\n",
       "      <td>Fargo (1996)</td>\n",
       "      <td>Comedy|Crime|Drama|Thriller</td>\n",
       "      <td>1.489821</td>\n",
       "    </tr>\n",
       "    <tr>\n",
       "      <th>487</th>\n",
       "      <td>590</td>\n",
       "      <td>Dances with Wolves (1990)</td>\n",
       "      <td>Adventure|Drama|Western</td>\n",
       "      <td>1.472671</td>\n",
       "    </tr>\n",
       "    <tr>\n",
       "      <th>316</th>\n",
       "      <td>380</td>\n",
       "      <td>True Lies (1994)</td>\n",
       "      <td>Action|Adventure|Comedy|Romance|Thriller</td>\n",
       "      <td>1.240356</td>\n",
       "    </tr>\n",
       "  </tbody>\n",
       "</table>\n",
       "</div>"
      ],
      "text/plain": [
       "     movieId                      title  \\\n",
       "246      296        Pulp Fiction (1994)   \n",
       "294      356        Forrest Gump (1994)   \n",
       "497      608               Fargo (1996)   \n",
       "487      590  Dances with Wolves (1990)   \n",
       "316      380           True Lies (1994)   \n",
       "\n",
       "                                       genres  Predictions  \n",
       "246               Comedy|Crime|Drama|Thriller     2.023774  \n",
       "294                  Comedy|Drama|Romance|War     1.736524  \n",
       "497               Comedy|Crime|Drama|Thriller     1.489821  \n",
       "487                   Adventure|Drama|Western     1.472671  \n",
       "316  Action|Adventure|Comedy|Romance|Thriller     1.240356  "
      ]
     },
     "execution_count": 27,
     "metadata": {},
     "output_type": "execute_result"
    }
   ],
   "source": [
    "#예측된 유저의 영화추천 목록\n",
    "recommendations.head(5)"
   ]
  },
  {
   "cell_type": "code",
   "execution_count": null,
   "metadata": {},
   "outputs": [],
   "source": []
  }
 ],
 "metadata": {
  "kernelspec": {
   "display_name": "Python 3",
   "language": "python",
   "name": "python3"
  },
  "language_info": {
   "codemirror_mode": {
    "name": "ipython",
    "version": 3
   },
   "file_extension": ".py",
   "mimetype": "text/x-python",
   "name": "python",
   "nbconvert_exporter": "python",
   "pygments_lexer": "ipython3",
   "version": "3.8.3"
  }
 },
 "nbformat": 4,
 "nbformat_minor": 4
}
